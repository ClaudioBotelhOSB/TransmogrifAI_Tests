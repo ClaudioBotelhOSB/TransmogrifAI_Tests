{
 "cells": [
  {
   "cell_type": "code",
   "execution_count": 1,
   "metadata": {},
   "outputs": [
    {
     "data": {
      "application/vnd.jupyter.widget-view+json": {
       "model_id": "",
       "version_major": 2,
       "version_minor": 0
      },
      "method": "display_data"
     },
     "metadata": {},
     "output_type": "display_data"
    },
    {
     "data": {
      "application/vnd.jupyter.widget-view+json": {
       "model_id": "77fc2767-070c-4f2c-9bf7-e4a3a0939730",
       "version_major": 2,
       "version_minor": 0
      },
      "method": "display_data"
     },
     "metadata": {},
     "output_type": "display_data"
    }
   ],
   "source": [
    "%classpath add mvn com.salesforce.transmogrifai transmogrifai-core_2.11 0.7.0"
   ]
  },
  {
   "cell_type": "code",
   "execution_count": 2,
   "metadata": {},
   "outputs": [
    {
     "data": {
      "application/vnd.jupyter.widget-view+json": {
       "model_id": "",
       "version_major": 2,
       "version_minor": 0
      },
      "method": "display_data"
     },
     "metadata": {},
     "output_type": "display_data"
    },
    {
     "data": {
      "application/vnd.jupyter.widget-view+json": {
       "model_id": "c2f04733-eae1-440c-a9bf-2ae781e16995",
       "version_major": 2,
       "version_minor": 0
      },
      "method": "display_data"
     },
     "metadata": {},
     "output_type": "display_data"
    }
   ],
   "source": [
    "%classpath add mvn org.apache.spark spark-mllib_2.11 2.4.5"
   ]
  },
  {
   "cell_type": "code",
   "execution_count": 3,
   "metadata": {},
   "outputs": [
    {
     "data": {
      "text/plain": [
       "import org.apache.spark.SparkConf\n",
       "import org.apache.spark.sql.SparkSession\n",
       "import org.apache.spark.SparkContext\n",
       "import org.apache.spark.sql.functions.udf\n",
       "import com.salesforce.op._\n",
       "import com.salesforce.op.features._\n",
       "import com.salesforce.op.features.types._\n",
       "import com.salesforce.op.stages.impl.classification._\n",
       "import com.salesforce.op.evaluators.Evaluators\n"
      ]
     },
     "execution_count": 3,
     "metadata": {},
     "output_type": "execute_result"
    }
   ],
   "source": [
    "import org.apache.spark.SparkConf\n",
    "import org.apache.spark.sql.SparkSession\n",
    "import org.apache.spark.SparkContext\n",
    "import org.apache.spark.sql.functions.udf\n",
    "\n",
    "import com.salesforce.op._\n",
    "import com.salesforce.op.features._\n",
    "import com.salesforce.op.features.types._\n",
    "import com.salesforce.op.stages.impl.classification._\n",
    "import com.salesforce.op.evaluators.Evaluators"
   ]
  },
  {
   "cell_type": "code",
   "execution_count": 4,
   "metadata": {},
   "outputs": [
    {
     "data": {
      "text/plain": [
       "org.apache.spark.sql.SparkSession@74f42135"
      ]
     },
     "execution_count": 4,
     "metadata": {},
     "output_type": "execute_result"
    }
   ],
   "source": [
    "val conf = new SparkConf().setMaster(\"local[*]\").setAppName(\"TitanicPrediction\")\n",
    "implicit val spark = SparkSession.builder.config(conf).getOrCreate()"
   ]
  },
  {
   "cell_type": "code",
   "execution_count": 5,
   "metadata": {},
   "outputs": [
    {
     "data": {
      "text/plain": [
       "defined class Passenger\n"
      ]
     },
     "execution_count": 5,
     "metadata": {},
     "output_type": "execute_result"
    }
   ],
   "source": [
    "case class Passenger(\n",
    "  id: Int,\n",
    "  survived: Int,\n",
    "  pClass: Option[Int],\n",
    "  name: Option[String],\n",
    "  sex: Option[String],\n",
    "  age: Option[Double],\n",
    "  sibSp: Option[Int],\n",
    "  parCh: Option[Int],\n",
    "  ticket: Option[String],\n",
    "  fare: Option[Double],\n",
    "  cabin: Option[String],\n",
    "  embarked: Option[String]\n",
    ")"
   ]
  },
  {
   "cell_type": "code",
   "execution_count": 6,
   "metadata": {},
   "outputs": [
    {
     "data": {
      "text/plain": [
       "Feature(name = embarked, uid = PickList_00000000000b, isResponse = false, originStage = FeatureGeneratorStage_00000000000b, parents = [], distributions = [])"
      ]
     },
     "execution_count": 6,
     "metadata": {},
     "output_type": "execute_result"
    }
   ],
   "source": [
    "val survived = FeatureBuilder.RealNN[Passenger].extract(_.survived.toRealNN).asResponse\n",
    "val pClass = FeatureBuilder.PickList[Passenger].extract(_.pClass.map(_.toString).toPickList).asPredictor\n",
    "val name = FeatureBuilder.Text[Passenger].extract(_.name.toText).asPredictor\n",
    "val sex = FeatureBuilder.PickList[Passenger].extract(_.sex.map(_.toString).toPickList).asPredictor\n",
    "val age = FeatureBuilder.Real[Passenger].extract(_.age.toReal).asPredictor\n",
    "val sibSp = FeatureBuilder.Integral[Passenger].extract(_.sibSp.toIntegral).asPredictor\n",
    "val parCh = FeatureBuilder.Integral[Passenger].extract(_.parCh.toIntegral).asPredictor\n",
    "val ticket = FeatureBuilder.PickList[Passenger].extract(_.ticket.map(_.toString).toPickList).asPredictor\n",
    "val fare = FeatureBuilder.Real[Passenger].extract(_.fare.toReal).asPredictor\n",
    "val cabin = FeatureBuilder.PickList[Passenger].extract(_.cabin.map(_.toString).toPickList).asPredictor\n",
    "val embarked = FeatureBuilder.PickList[Passenger].extract(_.embarked.map(_.toString).toPickList).asPredictor"
   ]
  },
  {
   "cell_type": "code",
   "execution_count": 7,
   "metadata": {},
   "outputs": [
    {
     "data": {
      "text/plain": [
       "Feature(name = age_1-stagesApplied_PickList_000000000012, uid = PickList_000000000012, isResponse = false, originStage = UnaryLambdaTransformer_000000000012, parents = [Real_000000000005], distributions = [])"
      ]
     },
     "execution_count": 7,
     "metadata": {},
     "output_type": "execute_result"
    }
   ],
   "source": [
    "val familySize = sibSp + parCh + 1\n",
    "val estimatedCostOfTickets = familySize * fare\n",
    "val pivotedSex = sex.pivot()\n",
    "val normedAge = age.fillMissingWithMean().zNormalize()\n",
    "val ageGroup = age.map[PickList](_.value.map(v => if (v > 18) \"adult\" else \"child\").toPickList)\n"
   ]
  },
  {
   "cell_type": "code",
   "execution_count": 8,
   "metadata": {},
   "outputs": [
    {
     "data": {
      "text/plain": [
       "Feature(name = age-cabin-embarked-fare-name-pClass-parCh-sex-sibSp-ticket_10-stagesApplied_OPVector_000000000017, uid = OPVector_000000000017, isResponse = false, originStage = VectorsCombiner_000000000017, parents = [OPVector_000000000013,OPVector_00000000000f,OPVector_000000000014,OPVector_000000000015,OPVector_000000000016], distributions = [])"
      ]
     },
     "execution_count": 8,
     "metadata": {},
     "output_type": "execute_result"
    }
   ],
   "source": [
    "val passengerFeatures = Seq(\n",
    "      pClass, name, age, sibSp, parCh, ticket,\n",
    "      cabin, embarked, familySize, estimatedCostOfTickets,\n",
    "      pivotedSex, ageGroup\n",
    "    ).transmogrify()"
   ]
  },
  {
   "cell_type": "code",
   "execution_count": 9,
   "metadata": {},
   "outputs": [
    {
     "data": {
      "text/plain": [
       "Feature(name = age-cabin-embarked-fare-name-pClass-parCh-sex-sibSp-survived-ticket_11-stagesApplied_OPVector_000000000018, uid = OPVector_000000000018, isResponse = false, originStage = SanityChecker_000000000018, parents = [RealNN_000000000001,OPVector_000000000017], distributions = [])"
      ]
     },
     "execution_count": 9,
     "metadata": {},
     "output_type": "execute_result"
    }
   ],
   "source": [
    "val sanityCheck = true\n",
    "val finalFeatures = if (sanityCheck) survived.sanityCheck(passengerFeatures) else passengerFeatures"
   ]
  },
  {
   "cell_type": "code",
   "execution_count": 10,
   "metadata": {},
   "outputs": [
    {
     "data": {
      "text/plain": [
       "Feature(name = age-cabin-embarked-fare-name-pClass-parCh-sex-sibSp-survived-ticket_12-stagesApplied_Prediction_000000000023, uid = Prediction_000000000023, isResponse = true, originStage = ModelSelector_000000000023, parents = [RealNN_000000000001,OPVector_000000000018], distributions = [])"
      ]
     },
     "execution_count": 10,
     "metadata": {},
     "output_type": "execute_result"
    }
   ],
   "source": [
    "import com.salesforce.op.stages.impl.classification.BinaryClassificationModelSelector\n",
    "import com.salesforce.op.stages.impl.classification.BinaryClassificationModelsToTry._\n",
    "\n",
    "val prediction =\n",
    "      BinaryClassificationModelSelector.withTrainValidationSplit(\n",
    "        modelTypesToUse = Seq(OpLogisticRegression)\n",
    "      ).setInput(survived, finalFeatures).getOutput()\n"
   ]
  },
  {
   "cell_type": "code",
   "execution_count": 11,
   "metadata": {},
   "outputs": [
    {
     "data": {
      "text/plain": [
       "OpBinaryClassificationEvaluator_000000000024"
      ]
     },
     "execution_count": 11,
     "metadata": {},
     "output_type": "execute_result"
    }
   ],
   "source": [
    "val evaluator = Evaluators.BinaryClassification().setLabelCol(survived).setPredictionCol(prediction)"
   ]
  },
  {
   "cell_type": "code",
   "execution_count": 12,
   "metadata": {},
   "outputs": [
    {
     "data": {
      "text/plain": [
       "org.apache.spark.sql.SparkSession$implicits$@791670c4"
      ]
     },
     "execution_count": 12,
     "metadata": {},
     "output_type": "execute_result"
    }
   ],
   "source": [
    "import spark.implicits._ // Needed for Encoders for the Passenger case class\n",
    "import com.salesforce.op.readers.DataReaders\n",
    "\n",
    "val trainFilePath = \"/home/beakerx/helloworld/src/main/resources/TitanicDataset/TitanicPassengersTrainData.csv\"\n",
    "    // Define a way to read data into our Passenger class from our CSV file\n",
    "val trainDataReader = DataReaders.Simple.csvCase[Passenger](\n",
    "      path = Option(trainFilePath),\n",
    "      key = _.id.toString\n",
    "    )"
   ]
  },
  {
   "cell_type": "code",
   "execution_count": 13,
   "metadata": {},
   "outputs": [
    {
     "data": {
      "text/plain": [
       "com.salesforce.op.OpWorkflow@57f8a7f7"
      ]
     },
     "execution_count": 13,
     "metadata": {},
     "output_type": "execute_result"
    }
   ],
   "source": [
    "val workflow =\n",
    "      new OpWorkflow()\n",
    "        .setResultFeatures(survived, prediction)\n",
    "        .setReader(trainDataReader)"
   ]
  },
  {
   "cell_type": "code",
   "execution_count": 14,
   "metadata": {},
   "outputs": [
    {
     "name": "stdout",
     "output_type": "stream",
     "text": [
      "Summary:\n",
      "Evaluated OpLogisticRegression model using Train Validation Split and area under precision-recall metric.\n",
      "Evaluated 8 OpLogisticRegression models with area under precision-recall metric between [0.7246270149973595, 0.8099677675881571].\n",
      "+--------------------------------------------------------+\n",
      "|         Selected Model - OpLogisticRegression          |\n",
      "+--------------------------------------------------------+\n",
      "| Model Param      | Value                               |\n",
      "+------------------+-------------------------------------+\n",
      "| aggregationDepth | 2                                   |\n",
      "| elasticNetParam  | 0.1                                 |\n",
      "| family           | auto                                |\n",
      "| fitIntercept     | true                                |\n",
      "| maxIter          | 50                                  |\n",
      "| modelType        | OpLogisticRegression                |\n",
      "| name             | OpLogisticRegression_00000000001c_3 |\n",
      "| regParam         | 0.2                                 |\n",
      "| standardization  | true                                |\n",
      "| tol              | 1.0E-6                              |\n",
      "| uid              | OpLogisticRegression_00000000001c   |\n",
      "+------------------+-------------------------------------+\n",
      "+------------------------------------------------------------------------+\n",
      "|                        Model Evaluation Metrics                        |\n",
      "+------------------------------------------------------------------------+\n",
      "| Metric Name                 | Training Set Value  | Hold Out Set Value |\n",
      "+-----------------------------+---------------------+--------------------+\n",
      "| area under ROC              | 0.8930283224400871  | 0.8276748971193417 |\n",
      "| area under precision-recall | 0.8676262141008523  | 0.8323190447455839 |\n",
      "| error                       | 0.16354556803995007 | 0.2111111111111111 |\n",
      "| f1                          | 0.7705779334500876  | 0.7076923076923076 |\n",
      "| false negative              | 86.0                | 13.0               |\n",
      "| false positive              | 45.0                | 6.0                |\n",
      "| precision                   | 0.8301886792452831  | 0.7931034482758621 |\n",
      "| recall                      | 0.7189542483660131  | 0.6388888888888888 |\n",
      "| true negative               | 450.0               | 48.0               |\n",
      "| true positive               | 220.0               | 23.0               |\n",
      "+-----------------------------+---------------------+--------------------+\n",
      "+--------------------------------------------------------------------------------+\n",
      "|                               Top Model Insights                               |\n",
      "+--------------------------------------------------------------------------------+\n",
      "| Top Positive Correlations                              |     Correlation Value |\n",
      "+--------------------------------------------------------+-----------------------+\n",
      "| sex(sex = Female)                                      |    0.5402456767446939 |\n",
      "| name                                                   |    0.3394986597795681 |\n",
      "| cabin(cabin = other)                                   |   0.31317873501670124 |\n",
      "| pClass(pClass = 1)                                     |     0.285735405616254 |\n",
      "| embarked(embarked = C)                                 |   0.16337754152551776 |\n",
      "| parCh                                                  |   0.13255277356843853 |\n",
      "| fare                                                   |   0.13255277356843853 |\n",
      "| sibSp                                                  |   0.13255277356843853 |\n",
      "| age(age_1-stagesApplied_PickList_000000000012 = Child) |    0.1172248501231248 |\n",
      "| pClass(pClass = 2)                                     |   0.10039292107847689 |\n",
      "| embarked(embarked = null)                              |   0.06363316054511221 |\n",
      "| age(age_1-stagesApplied_PickList_000000000012 = Adult) | -0.010958721605276448 |\n",
      "| embarked(embarked = Q)                                 |  -0.01480751256398187 |\n",
      "| age                                                    |  -0.08206400318326924 |\n",
      "| age(age = null)                                        |  -0.09272055459071638 |\n",
      "+--------------------------------------------------------+-----------------------+\n",
      "+------------------------------------------------------------------------------+\n",
      "| Top Negative Correlations                             |    Correlation Value |\n",
      "+-------------------------------------------------------+----------------------+\n",
      "| sex(sex = Male)                                       |  -0.5402456767446939 |\n",
      "| name                                                  |  -0.5368923345940603 |\n",
      "| pClass(pClass = 3)                                    |  -0.3299714551899296 |\n",
      "| cabin(cabin = null)                                   |  -0.3131787350167012 |\n",
      "| embarked(embarked = S)                                | -0.14125955901870982 |\n",
      "| age(age_1-stagesApplied_PickList_000000000012 = null) | -0.09272055459071638 |\n",
      "| sibSp                                                 |  -0.0328005995623405 |\n",
      "| parCh                                                 | 0.015651026584797095 |\n",
      "+-------------------------------------------------------+----------------------+\n",
      "+--------------------------------------------------------------------------------+\n",
      "| Top Contributions                                      |    Contribution Value |\n",
      "+--------------------------------------------------------+-----------------------+\n",
      "| name                                                   |    0.2634920618008548 |\n",
      "| sex(sex = Female)                                      |    0.2488401154941326 |\n",
      "| sex(sex = Male)                                        |   0.24880981826108925 |\n",
      "| pClass(pClass = 3)                                     |   0.18593645831916572 |\n",
      "| cabin(cabin = null)                                    |   0.12161467747056838 |\n",
      "| cabin(cabin = other)                                   |   0.12154835963317767 |\n",
      "| pClass(pClass = 1)                                     |   0.10970128798950118 |\n",
      "| age                                                    |  0.054401409757682054 |\n",
      "| sibSp                                                  |   0.04527718955009609 |\n",
      "| embarked(embarked = C)                                 |  0.041084742789326834 |\n",
      "| parCh                                                  |  0.033199620673810465 |\n",
      "| embarked(embarked = S)                                 |  0.030055437914133117 |\n",
      "| pClass(pClass = 2)                                     |   0.01840110839219169 |\n",
      "| age(age_1-stagesApplied_PickList_000000000012 = Child) | 0.0057072110876429825 |\n",
      "| pClass(pClass = null)                                  |                   0.0 |\n",
      "+--------------------------------------------------------+-----------------------+\n",
      "+--------------------------------------------------------------------------+\n",
      "| Top CramersV                                       |            CramersV |\n",
      "+----------------------------------------------------+---------------------+\n",
      "| sex                                                |  0.5402456767446938 |\n",
      "| pClass                                             |  0.3444763184885371 |\n",
      "| cabin                                              | 0.31317873501670124 |\n",
      "| embarked                                           | 0.17712285227702249 |\n",
      "| age_1-stagesApplied_PickList_000000000012          | 0.13635230661581282 |\n",
      "| age                                                | 0.09272055459071633 |\n",
      "| parCh                                              |                 0.0 |\n",
      "| ticket                                             |                 0.0 |\n",
      "| name                                               |                 0.0 |\n",
      "| fare-parCh-sibSp_3-stagesApplied_Real_00000000000e |                 0.0 |\n",
      "| parCh-sibSp_2-stagesApplied_Real_00000000000d      |                 0.0 |\n",
      "| sibSp                                              |                 0.0 |\n",
      "+----------------------------------------------------+---------------------+\n"
     ]
    },
    {
     "data": {
      "text/plain": [
       "null"
      ]
     },
     "execution_count": 14,
     "metadata": {},
     "output_type": "execute_result"
    }
   ],
   "source": [
    "val fittedWorkflow = workflow.train()\n",
    "println(\"Summary:\\n\" + fittedWorkflow.summaryPretty())"
   ]
  },
  {
   "cell_type": "code",
   "execution_count": 15,
   "metadata": {},
   "outputs": [
    {
     "name": "stdout",
     "output_type": "stream",
     "text": [
      "Scoring the model:\n",
      "=================\n",
      "Transformed dataframe columns:\n",
      "--------------------------\n",
      "key\n",
      "survived\n",
      "age-cabin-embarked-fare-name-pClass-parCh-sex-sibSp-survived-ticket_12-stagesApplied_Prediction_000000000023\n",
      "Metrics:\n",
      "------------\n",
      "{\n",
      "  \"Precision\" : 0.826530612244898,\n",
      "  \"Recall\" : 0.7105263157894737,\n",
      "  \"F1\" : 0.7641509433962264,\n",
      "  \"AuROC\" : 0.8860847473875945,\n",
      "  \"AuPR\" : 0.8642975015676693,\n",
      "  \"Error\" : 0.16835016835016836,\n",
      "  \"TP\" : 243.0,\n",
      "  \"TN\" : 498.0,\n",
      "  \"FP\" : 51.0,\n",
      "  \"FN\" : 99.0,\n",
      "  \"thresholds\" : [ 0.8429051668236677, 0.8340050884125256, 0.8248385563692645, 0.8158377748929678, 0.811440517817274, 0.8063078095375442, 0.8012109822316678, 0.7938396389206815, 0.7914264524124233, 0.7885731053087678, 0.7852590636844079, 0.7804150024804707, 0.7748023382106847, 0.7658723601130933, 0.7531030924152463, 0.7441859014776429, 0.7333930943898694, 0.719494072372077, 0.7026698010014258, 0.697036002520517, 0.6871191380068455, 0.6677021670164942, 0.6602723428268436, 0.6541997986165858, 0.6479072714009527, 0.6416548854833869, 0.6343128278145651, 0.6323603659658078, 0.6267476981010381, 0.6149303948222739, 0.6078856706606838, 0.5982694144260186, 0.5955985719840929, 0.5823756426190054, 0.5766624547543973, 0.5709826638850896, 0.5608871972454575, 0.5546748027486852, 0.5506367850318672, 0.5474605407810339, 0.5363077345701407, 0.5296297753302186, 0.5227636894183062, 0.5186002608039516, 0.5108151458834368, 0.5022808128287967, 0.494851415465267, 0.4846713806186124, 0.4776809065780209, 0.4664295292488345, 0.446100732526102, 0.43687231443166225, 0.42901134102868765, 0.42399756544619316, 0.4167540282254789, 0.40987355340512915, 0.4053617458659303, 0.39375165789716104, 0.3869776398441867, 0.38151466780422094, 0.3774927465726669, 0.37177092430943404, 0.36736911005490425, 0.3606653709473934, 0.35209798849891455, 0.3469361069136719, 0.3376800100744918, 0.32616900087474426, 0.315943015391665, 0.30202413406765016, 0.2914472430350755, 0.2871805756610686, 0.2678348715964687, 0.25731421780663394, 0.253465389830188, 0.24995301990514454, 0.23809669120314902, 0.2345819686181055, 0.23219022580749524, 0.22600144259281238, 0.22229892618094005, 0.22010644532368284, 0.2178176060227268, 0.2154913368499279, 0.21119203290125982, 0.20558144843160872, 0.20285791387064073, 0.19872650385147847, 0.19131769720893782, 0.18253333213106662, 0.17926347062044107, 0.17595969886491897, 0.17151362936062228, 0.16743571347158984, 0.16518674262963515, 0.1634640769525284, 0.16104962975057757, 0.15993127143396002, 0.15881920902885927, 0.15703817946549817, 0.15606649836086428, 0.15497635159206427, 0.15360653774490568, 0.15146058856582637, 0.1500333336771275, 0.1490913995974518, 0.14788901000010451, 0.14595981853602466, 0.1449281448606059, 0.14275474899500848, 0.1408619003188948, 0.13461071539031505, 0.12840923732350665, 0.11562789962647675, 0.09802172199555167 ],\n",
      "  \"precisionByThreshold\" : [ 1.0, 1.0, 1.0, 1.0, 1.0, 1.0, 1.0, 1.0, 1.0, 1.0, 1.0, 0.9863013698630136, 0.9875, 0.9651162790697675, 0.967391304347826, 0.9693877551020408, 0.9615384615384616, 0.9636363636363636, 0.9572649572649573, 0.959349593495935, 0.9612403100775194, 0.9555555555555556, 0.950354609929078, 0.9523809523809523, 0.954248366013072, 0.9559748427672956, 0.9575757575757575, 0.9532163742690059, 0.9491525423728814, 0.9398907103825137, 0.9417989417989417, 0.9384615384615385, 0.9306930693069307, 0.9234449760765551, 0.9116279069767442, 0.9095022624434389, 0.8942731277533039, 0.8974358974358975, 0.8925619834710744, 0.8870967741935484, 0.8818897637795275, 0.8716981132075472, 0.8644688644688645, 0.8571428571428571, 0.8426573426573427, 0.8321917808219178, 0.8154362416107382, 0.8026315789473685, 0.7903225806451613, 0.7816455696202531, 0.7763975155279503, 0.774390243902439, 0.7724550898203593, 0.7735294117647059, 0.7658959537572254, 0.7592067988668555, 0.7520891364902507, 0.7452054794520548, 0.7372654155495979, 0.7335092348284961, 0.7135549872122762, 0.7128463476070529, 0.707196029776675, 0.6982968369829684, 0.6930455635491607, 0.6816037735849056, 0.6790697674418604, 0.6743119266055045, 0.6719457013574661, 0.6629464285714286, 0.6563876651982379, 0.6457883369330454, 0.6396588486140725, 0.6336842105263157, 0.6314699792960663, 0.6257668711656442, 0.6202020202020202, 0.6147704590818364, 0.6070726915520629, 0.5965250965250966, 0.5863377609108159, 0.5802238805970149, 0.5693430656934306, 0.5621621621621622, 0.5577264653641207, 0.5508771929824562, 0.5441941074523396, 0.5403087478559176, 0.5382003395585738, 0.534453781512605, 0.5219512195121951, 0.5176848874598071, 0.5143312101910829, 0.5094637223974764, 0.49312977099236643, 0.4879518072289157, 0.46965317919075145, 0.4611032531824611, 0.4535367545076283, 0.44609164420485176, 0.4267515923566879, 0.4244332493702771, 0.41935483870967744, 0.4126984126984127, 0.40991535671100365, 0.407673860911271, 0.4054696789536266, 0.4025974025974026, 0.3992974238875878, 0.39651162790697675, 0.39376443418013857, 0.39105504587155965, 0.38838268792710706, 0.38687782805429866, 0.3838383838383838 ],\n",
      "  \"recallByThreshold\" : [ 0.017543859649122806, 0.03508771929824561, 0.05263157894736842, 0.07017543859649122, 0.08771929824561403, 0.10526315789473684, 0.12280701754385964, 0.14035087719298245, 0.1608187134502924, 0.1783625730994152, 0.195906432748538, 0.21052631578947367, 0.2309941520467836, 0.24269005847953215, 0.260233918128655, 0.2777777777777778, 0.29239766081871343, 0.30994152046783624, 0.32748538011695905, 0.34502923976608185, 0.36257309941520466, 0.37719298245614036, 0.391812865497076, 0.4093567251461988, 0.4269005847953216, 0.4444444444444444, 0.4619883040935672, 0.4766081871345029, 0.49122807017543857, 0.5029239766081871, 0.52046783625731, 0.5350877192982456, 0.5497076023391813, 0.564327485380117, 0.5730994152046783, 0.5877192982456141, 0.5935672514619883, 0.6140350877192983, 0.631578947368421, 0.6432748538011696, 0.6549707602339181, 0.6754385964912281, 0.6900584795321637, 0.7017543859649122, 0.7046783625730995, 0.7105263157894737, 0.7105263157894737, 0.7134502923976608, 0.716374269005848, 0.7222222222222222, 0.7309941520467836, 0.7426900584795322, 0.7543859649122807, 0.7690058479532164, 0.7748538011695907, 0.783625730994152, 0.7894736842105263, 0.7953216374269005, 0.804093567251462, 0.8128654970760234, 0.8157894736842105, 0.827485380116959, 0.8333333333333334, 0.8391812865497076, 0.8450292397660819, 0.8450292397660819, 0.8538011695906432, 0.8596491228070176, 0.868421052631579, 0.868421052631579, 0.8713450292397661, 0.8742690058479532, 0.8771929824561403, 0.8801169590643275, 0.8918128654970761, 0.8947368421052632, 0.8976608187134503, 0.9005847953216374, 0.9035087719298246, 0.9035087719298246, 0.9035087719298246, 0.9093567251461988, 0.9122807017543859, 0.9122807017543859, 0.9181286549707602, 0.9181286549707602, 0.9181286549707602, 0.9210526315789473, 0.9269005847953217, 0.9298245614035088, 0.9385964912280702, 0.9415204678362573, 0.9444444444444444, 0.9444444444444444, 0.9444444444444444, 0.9473684210526315, 0.9502923976608187, 0.9532163742690059, 0.956140350877193, 0.9678362573099415, 0.97953216374269, 0.9853801169590644, 0.9883040935672515, 0.9883040935672515, 0.9912280701754386, 0.9941520467836257, 0.9970760233918129, 0.9970760233918129, 0.9970760233918129, 0.9970760233918129, 0.9970760233918129, 0.9970760233918129, 0.9970760233918129, 1.0, 1.0 ],\n",
      "  \"falsePositiveRateByThreshold\" : [ 0.0, 0.0, 0.0, 0.0, 0.0, 0.0, 0.0, 0.0, 0.0, 0.0, 0.0, 0.0018214936247723133, 0.0018214936247723133, 0.00546448087431694, 0.00546448087431694, 0.00546448087431694, 0.007285974499089253, 0.007285974499089253, 0.009107468123861567, 0.009107468123861567, 0.009107468123861567, 0.01092896174863388, 0.012750455373406194, 0.012750455373406194, 0.012750455373406194, 0.012750455373406194, 0.012750455373406194, 0.014571948998178506, 0.01639344262295082, 0.020036429872495445, 0.020036429872495445, 0.02185792349726776, 0.025500910746812388, 0.029143897996357013, 0.03460837887067395, 0.03642987249544627, 0.04371584699453552, 0.04371584699453552, 0.04735883424408015, 0.051001821493624776, 0.0546448087431694, 0.061930783242258654, 0.06739526411657559, 0.07285974499089254, 0.08196721311475409, 0.08925318761384335, 0.10018214936247723, 0.1092896174863388, 0.11839708561020036, 0.12568306010928962, 0.13114754098360656, 0.13479052823315119, 0.1384335154826958, 0.14025500910746813, 0.14754098360655737, 0.15482695810564662, 0.1621129326047359, 0.16939890710382513, 0.1785063752276867, 0.18397085610200364, 0.2040072859744991, 0.20765027322404372, 0.21493624772313297, 0.22586520947176686, 0.2331511839708561, 0.2459016393442623, 0.25136612021857924, 0.2586520947176685, 0.2641165755919854, 0.2750455373406193, 0.28415300546448086, 0.2987249544626594, 0.30783242258652094, 0.31693989071038253, 0.3242258652094718, 0.3333333333333333, 0.3424408014571949, 0.35154826958105645, 0.36429872495446264, 0.3806921675774135, 0.3970856102003643, 0.4098360655737705, 0.42987249544626593, 0.4426229508196721, 0.453551912568306, 0.4663023679417122, 0.4790528233151184, 0.48816029143898, 0.49544626593806923, 0.5045537340619308, 0.5355191256830601, 0.546448087431694, 0.5555555555555556, 0.5664845173041895, 0.604735883424408, 0.6193078324225865, 0.668488160291439, 0.6939890710382514, 0.7176684881602914, 0.7486338797814208, 0.819672131147541, 0.8324225865209471, 0.8524590163934426, 0.8761384335154827, 0.8888888888888888, 0.8998178506375227, 0.9107468123861566, 0.9216757741347905, 0.9344262295081968, 0.9453551912568307, 0.9562841530054644, 0.9672131147540983, 0.9781420765027322, 0.9872495446265938, 1.0 ]\n",
      "}\n"
     ]
    },
    {
     "data": {
      "text/plain": [
       "null"
      ]
     },
     "execution_count": 15,
     "metadata": {},
     "output_type": "execute_result"
    }
   ],
   "source": [
    "println(\"Scoring the model:\\n=================\")\n",
    "val (dataframe, metrics) = fittedWorkflow.scoreAndEvaluate(evaluator = evaluator)\n",
    "\n",
    "println(\"Transformed dataframe columns:\\n--------------------------\")\n",
    "dataframe.columns.foreach(println)\n",
    "\n",
    "println(\"Metrics:\\n------------\")\n",
    "println(metrics)"
   ]
  },
  {
   "cell_type": "code",
   "execution_count": null,
   "metadata": {},
   "outputs": [],
   "source": []
  }
 ],
 "metadata": {
  "kernelspec": {
   "display_name": "Scala 2.12.8",
   "language": "scala",
   "name": "scala_2_12_8"
  },
  "language_info": {
   "codemirror_mode": "text/x-scala",
   "file_extension": ".scala",
   "mimetype": "text/x-scala",
   "name": "scala",
   "nbconvert_exporter": "script",
   "version": "2.12.8"
  },
  "toc": {
   "base_numbering": 1,
   "nav_menu": {},
   "number_sections": false,
   "sideBar": false,
   "skip_h1_title": false,
   "title_cell": "Table of Contents",
   "title_sidebar": "Contents",
   "toc_cell": false,
   "toc_position": {},
   "toc_section_display": false,
   "toc_window_display": false
  }
 },
 "nbformat": 4,
 "nbformat_minor": 2
}
