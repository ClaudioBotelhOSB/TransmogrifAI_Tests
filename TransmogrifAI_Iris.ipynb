{
 "cells": [
  {
   "cell_type": "code",
   "execution_count": 1,
   "metadata": {},
   "outputs": [
    {
     "data": {
      "application/vnd.jupyter.widget-view+json": {
       "model_id": "",
       "version_major": 2,
       "version_minor": 0
      },
      "method": "display_data"
     },
     "metadata": {},
     "output_type": "display_data"
    },
    {
     "data": {
      "application/vnd.jupyter.widget-view+json": {
       "model_id": "3db3feb2-a530-4582-be88-19fdf3ec8784",
       "version_major": 2,
       "version_minor": 0
      },
      "method": "display_data"
     },
     "metadata": {},
     "output_type": "display_data"
    }
   ],
   "source": [
    "%classpath add mvn com.salesforce.transmogrifai transmogrifai-core_2.11 0.7.0"
   ]
  },
  {
   "cell_type": "code",
   "execution_count": 2,
   "metadata": {},
   "outputs": [
    {
     "data": {
      "application/vnd.jupyter.widget-view+json": {
       "model_id": "",
       "version_major": 2,
       "version_minor": 0
      },
      "method": "display_data"
     },
     "metadata": {},
     "output_type": "display_data"
    },
    {
     "data": {
      "application/vnd.jupyter.widget-view+json": {
       "model_id": "c06d8271-a106-4d98-8670-c8e8d8b1cbc7",
       "version_major": 2,
       "version_minor": 0
      },
      "method": "display_data"
     },
     "metadata": {},
     "output_type": "display_data"
    }
   ],
   "source": [
    "%classpath add mvn org.apache.spark spark-mllib_2.11 2.4.5"
   ]
  },
  {
   "cell_type": "code",
   "execution_count": 3,
   "metadata": {},
   "outputs": [
    {
     "data": {
      "text/plain": [
       "defined class Iris\n"
      ]
     },
     "execution_count": 3,
     "metadata": {},
     "output_type": "execute_result"
    }
   ],
   "source": [
    "case class Iris\n",
    "(\n",
    "  sepalLength: Double,\n",
    "  sepalWidth: Double,\n",
    "  petalLength: Double,\n",
    "  petalWidth: Double,\n",
    "  irisClass: String\n",
    ")"
   ]
  },
  {
   "cell_type": "code",
   "execution_count": 4,
   "metadata": {},
   "outputs": [
    {
     "data": {
      "text/plain": [
       "Feature(name = irisClass, uid = Text_000000000005, isResponse = true, originStage = FeatureGeneratorStage_000000000005, parents = [], distributions = [])"
      ]
     },
     "execution_count": 4,
     "metadata": {},
     "output_type": "execute_result"
    }
   ],
   "source": [
    "import com.salesforce.op.features.FeatureBuilder\n",
    "import com.salesforce.op.features.types._\n",
    "\n",
    "val sepalLength = FeatureBuilder.Real[Iris].extract(_.sepalLength.toReal).asPredictor\n",
    "val sepalWidth = FeatureBuilder.Real[Iris].extract(_.sepalWidth.toReal).asPredictor\n",
    "val petalLength = FeatureBuilder.Real[Iris].extract(_.petalLength.toReal).asPredictor\n",
    "val petalWidth = FeatureBuilder.Real[Iris].extract(_.petalWidth.toReal).asPredictor\n",
    "val irisClass = FeatureBuilder.Text[Iris].extract(_.irisClass.toText).asResponse"
   ]
  },
  {
   "cell_type": "code",
   "execution_count": 5,
   "metadata": {},
   "outputs": [
    {
     "data": {
      "text/plain": [
       "import org.apache.spark.SparkConf\n",
       "import org.apache.spark.sql.SparkSession\n",
       "import org.apache.spark.SparkContext\n",
       "import org.apache.spark.sql.functions.udf\n"
      ]
     },
     "execution_count": 5,
     "metadata": {},
     "output_type": "execute_result"
    }
   ],
   "source": [
    "import org.apache.spark.SparkConf\n",
    "import org.apache.spark.sql.SparkSession\n",
    "import org.apache.spark.SparkContext\n",
    "import org.apache.spark.sql.functions.udf"
   ]
  },
  {
   "cell_type": "code",
   "execution_count": 6,
   "metadata": {},
   "outputs": [
    {
     "data": {
      "text/plain": [
       "org.apache.spark.sql.SparkSession@4b7715f2"
      ]
     },
     "execution_count": 6,
     "metadata": {},
     "output_type": "execute_result"
    }
   ],
   "source": [
    "val conf = new SparkConf().setMaster(\"local[*]\").setAppName(\"TitanicPrediction\")\n",
    "implicit val spark = SparkSession.builder.config(conf).getOrCreate()"
   ]
  },
  {
   "cell_type": "code",
   "execution_count": 7,
   "metadata": {},
   "outputs": [
    {
     "data": {
      "text/plain": [
       "import com.salesforce.op._\n",
       "import com.salesforce.op.evaluators.Evaluators\n",
       "import com.salesforce.op.readers.DataReaders\n",
       "import com.salesforce.op.stages.impl.classification.MultiClassificationModelSelector\n",
       "import com.salesforce.op.stages.impl.tuning.DataCutter\n",
       "import org.apache.spark.sql.Encoders\n"
      ]
     },
     "execution_count": 7,
     "metadata": {},
     "output_type": "execute_result"
    }
   ],
   "source": [
    "import com.salesforce.op._\n",
    "import com.salesforce.op.evaluators.Evaluators\n",
    "import com.salesforce.op.readers.DataReaders\n",
    "import com.salesforce.op.stages.impl.classification.MultiClassificationModelSelector\n",
    "import com.salesforce.op.stages.impl.tuning.DataCutter\n",
    "import org.apache.spark.sql.Encoders"
   ]
  },
  {
   "cell_type": "code",
   "execution_count": 8,
   "metadata": {},
   "outputs": [
    {
     "data": {
      "text/plain": [
       "class[sepalLength[0]: double, sepalWidth[0]: double, petalLength[0]: double, petalWidth[0]: double, irisClass[0]: string]"
      ]
     },
     "execution_count": 8,
     "metadata": {},
     "output_type": "execute_result"
    }
   ],
   "source": [
    "implicit val irisEncoder = Encoders.product[Iris]"
   ]
  },
  {
   "cell_type": "code",
   "execution_count": 9,
   "metadata": {},
   "outputs": [
    {
     "data": {
      "text/plain": [
       "com.salesforce.op.readers.CSVProductReader@7aa785f9"
      ]
     },
     "execution_count": 9,
     "metadata": {},
     "output_type": "execute_result"
    }
   ],
   "source": [
    "val irisReader = DataReaders.Simple.csvCase[Iris]()"
   ]
  },
  {
   "cell_type": "code",
   "execution_count": 10,
   "metadata": {},
   "outputs": [
    {
     "data": {
      "text/plain": [
       "Feature(name = petalLength-petalWidth-sepalLength-sepalWidth_2-stagesApplied_OPVector_000000000008, uid = OPVector_000000000008, isResponse = false, originStage = VectorsCombiner_000000000008, parents = [OPVector_000000000007], distributions = [])"
      ]
     },
     "execution_count": 10,
     "metadata": {},
     "output_type": "execute_result"
    }
   ],
   "source": [
    "val labels = irisClass.indexed()\n",
    "val features = Seq(sepalLength, sepalWidth, petalLength, petalWidth).transmogrify()\n"
   ]
  },
  {
   "cell_type": "code",
   "execution_count": 11,
   "metadata": {},
   "outputs": [
    {
     "data": {
      "text/plain": [
       "DataCutter_000000000009"
      ]
     },
     "execution_count": 11,
     "metadata": {},
     "output_type": "execute_result"
    }
   ],
   "source": [
    "val randomSeed = 42L\n",
    "val cutter = DataCutter(reserveTestFraction = 0.2, seed = randomSeed)"
   ]
  },
  {
   "cell_type": "code",
   "execution_count": 12,
   "metadata": {},
   "outputs": [
    {
     "data": {
      "text/plain": [
       "Feature(name = irisClass-petalLength-petalWidth-sepalLength-sepalWidth_4-stagesApplied_Prediction_000000000011, uid = Prediction_000000000011, isResponse = true, originStage = ModelSelector_000000000011, parents = [RealNN_000000000006,OPVector_000000000008], distributions = [])"
      ]
     },
     "execution_count": 12,
     "metadata": {},
     "output_type": "execute_result"
    }
   ],
   "source": [
    "val prediction = MultiClassificationModelSelector\n",
    "    .withCrossValidation(splitter = Option(cutter), seed = randomSeed)\n",
    "    .setInput(labels, features).getOutput()"
   ]
  },
  {
   "cell_type": "code",
   "execution_count": 13,
   "metadata": {},
   "outputs": [
    {
     "data": {
      "text/plain": [
       "OpMultiClassificationEvaluator_000000000012"
      ]
     },
     "execution_count": 13,
     "metadata": {},
     "output_type": "execute_result"
    }
   ],
   "source": [
    "val evaluator = Evaluators.MultiClassification.f1().setLabelCol(labels).setPredictionCol(prediction)"
   ]
  },
  {
   "cell_type": "code",
   "execution_count": 14,
   "metadata": {},
   "outputs": [
    {
     "data": {
      "text/plain": [
       "org.apache.spark.sql.SparkSession$implicits$@36575b59"
      ]
     },
     "execution_count": 14,
     "metadata": {},
     "output_type": "execute_result"
    }
   ],
   "source": [
    "implicit val spark = SparkSession.builder.config(conf).getOrCreate()\n",
    "import spark.implicits._ // Needed for Encoders for the Passenger case class\n",
    "import com.salesforce.op.readers.DataReaders\n",
    "\n",
    "val trainFilePath = \"/home/beakerx/helloworld/src/main/resources/IrisDataset/iris.data\"\n",
    "    // Define a way to read data into our Passenger class from our CSV file\n",
    "val trainDataReader = DataReaders.Simple.csvCase[Iris](\n",
    "      path = Option(trainFilePath)\n",
    "      //key = _.id.toString\n",
    "    )"
   ]
  },
  {
   "cell_type": "code",
   "execution_count": 15,
   "metadata": {},
   "outputs": [
    {
     "data": {
      "text/plain": [
       "com.salesforce.op.OpWorkflow@3021d783"
      ]
     },
     "execution_count": 15,
     "metadata": {},
     "output_type": "execute_result"
    }
   ],
   "source": [
    "val workflow = new OpWorkflow().setResultFeatures(prediction, labels).setReader(trainDataReader)"
   ]
  },
  {
   "cell_type": "code",
   "execution_count": 16,
   "metadata": {},
   "outputs": [
    {
     "name": "stdout",
     "output_type": "stream",
     "text": [
      "Summary:\n",
      "Evaluated OpLogisticRegression, OpRandomForestClassifier models using Cross Validation and error metric.\n",
      "Evaluated 8 OpLogisticRegression models with error metric between [0.047397682477246225, 0.08995087396660793].\n",
      "Evaluated 18 OpRandomForestClassifier models with error metric between [0.06100312465411695, 0.6725498710122346].\n",
      "+--------------------------------------------------------+\n",
      "|         Selected Model - OpLogisticRegression          |\n",
      "+--------------------------------------------------------+\n",
      "| Model Param      | Value                               |\n",
      "+------------------+-------------------------------------+\n",
      "| aggregationDepth | 2                                   |\n",
      "| elasticNetParam  | 0.1                                 |\n",
      "| family           | auto                                |\n",
      "| fitIntercept     | true                                |\n",
      "| maxIter          | 50                                  |\n",
      "| modelType        | OpLogisticRegression                |\n",
      "| name             | OpLogisticRegression_00000000000c_5 |\n",
      "| regParam         | 0.01                                |\n",
      "| standardization  | true                                |\n",
      "| tol              | 1.0E-6                              |\n",
      "| uid              | OpLogisticRegression_00000000000c   |\n",
      "+------------------+-------------------------------------+\n",
      "+-------------------------------------------------------+\n",
      "|               Model Evaluation Metrics                |\n",
      "+-------------------------------------------------------+\n",
      "| Metric Name | Training Set Value | Hold Out Set Value |\n",
      "+-------------+--------------------+--------------------+\n",
      "| error       | 0.0461538461538461 | 0.0                |\n",
      "| f1          | 0.9538461538461538 | 1.0                |\n",
      "| precision   | 0.9538461538461538 | 1.0                |\n",
      "| recall      | 0.9538461538461538 | 1.0                |\n",
      "+-------------+--------------------+--------------------+\n",
      "+-----------------------------------------------------------+\n",
      "|                    Top Model Insights                     |\n",
      "+-----------------------------------------------------------+\n",
      "| Top Positive Correlations       |       Correlation Value |\n",
      "+---------------------------------+-------------------------+\n",
      "| sepalWidth(sepalWidth = null)   | -1.7976931348623157E308 |\n",
      "| sepalWidth                      | -1.7976931348623157E308 |\n",
      "| sepalLength(sepalLength = null) | -1.7976931348623157E308 |\n",
      "| sepalLength                     | -1.7976931348623157E308 |\n",
      "| petalLength(petalLength = null) | -1.7976931348623157E308 |\n",
      "| petalLength                     | -1.7976931348623157E308 |\n",
      "| petalWidth(petalWidth = null)   | -1.7976931348623157E308 |\n",
      "| petalWidth                      | -1.7976931348623157E308 |\n",
      "+---------------------------------+-------------------------+\n",
      "+----------------------------------------------------------+\n",
      "| Top Negative Correlations       |      Correlation Value |\n",
      "+---------------------------------+------------------------+\n",
      "| petalWidth                      | 1.7976931348623157E308 |\n",
      "| petalWidth(petalWidth = null)   | 1.7976931348623157E308 |\n",
      "| petalLength                     | 1.7976931348623157E308 |\n",
      "| petalLength(petalLength = null) | 1.7976931348623157E308 |\n",
      "| sepalLength                     | 1.7976931348623157E308 |\n",
      "| sepalLength(sepalLength = null) | 1.7976931348623157E308 |\n",
      "| sepalWidth                      | 1.7976931348623157E308 |\n",
      "| sepalWidth(sepalWidth = null)   | 1.7976931348623157E308 |\n",
      "+---------------------------------+------------------------+\n",
      "+------------------------------------------------------+\n",
      "| Top Contributions               | Contribution Value |\n",
      "+---------------------------------+--------------------+\n",
      "| petalWidth                      | 3.1924863027128993 |\n",
      "| sepalWidth                      |  2.396732134067949 |\n",
      "| petalLength                     | 0.8436816192634052 |\n",
      "| sepalLength                     | 0.6011197901069363 |\n",
      "| sepalWidth(sepalWidth = null)   |                0.0 |\n",
      "| sepalLength(sepalLength = null) |                0.0 |\n",
      "| petalLength(petalLength = null) |                0.0 |\n",
      "| petalWidth(petalWidth = null)   |                0.0 |\n",
      "+---------------------------------+--------------------+\n"
     ]
    },
    {
     "data": {
      "text/plain": [
       "null"
      ]
     },
     "execution_count": 16,
     "metadata": {},
     "output_type": "execute_result"
    }
   ],
   "source": [
    "val fittedWorkflow = workflow.train()\n",
    "println(\"Summary:\\n\" + fittedWorkflow.summaryPretty())"
   ]
  },
  {
   "cell_type": "code",
   "execution_count": 17,
   "metadata": {},
   "outputs": [
    {
     "name": "stdout",
     "output_type": "stream",
     "text": [
      "Scoring the model:\n",
      "=================\n",
      "Transformed dataframe columns:\n",
      "--------------------------\n",
      "key\n",
      "irisClass_1-stagesApplied_RealNN_000000000006\n",
      "irisClass-petalLength-petalWidth-sepalLength-sepalWidth_4-stagesApplied_Prediction_000000000011\n",
      "Metrics:\n",
      "------------\n",
      "{\n",
      "  \"Precision\" : 0.9600000000000001,\n",
      "  \"Recall\" : 0.9600000000000001,\n",
      "  \"F1\" : 0.9600000000000001,\n",
      "  \"Error\" : 0.040000000000000036,\n",
      "  \"ThresholdMetrics\" : {\n",
      "    \"topNs\" : [ 1, 3 ],\n",
      "    \"thresholds\" : [ 0.0, 0.01, 0.02, 0.03, 0.04, 0.05, 0.06, 0.07, 0.08, 0.09, 0.1, 0.11, 0.12, 0.13, 0.14, 0.15, 0.16, 0.17, 0.18, 0.19, 0.2, 0.21, 0.22, 0.23, 0.24, 0.25, 0.26, 0.27, 0.28, 0.29, 0.3, 0.31, 0.32, 0.33, 0.34, 0.35, 0.36, 0.37, 0.38, 0.39, 0.4, 0.41, 0.42, 0.43, 0.44, 0.45, 0.46, 0.47, 0.48, 0.49, 0.5, 0.51, 0.52, 0.53, 0.54, 0.55, 0.56, 0.57, 0.58, 0.59, 0.6, 0.61, 0.62, 0.63, 0.64, 0.65, 0.66, 0.67, 0.68, 0.69, 0.7, 0.71, 0.72, 0.73, 0.74, 0.75, 0.76, 0.77, 0.78, 0.79, 0.8, 0.81, 0.82, 0.83, 0.84, 0.85, 0.86, 0.87, 0.88, 0.89, 0.9, 0.91, 0.92, 0.93, 0.94, 0.95, 0.96, 0.97, 0.98, 0.99, 1.0 ],\n",
      "    \"correctCounts\" : {\n",
      "      \"1\" : [ 144, 144, 144, 144, 144, 144, 144, 144, 144, 144, 144, 144, 144, 144, 144, 144, 144, 144, 144, 144, 144, 144, 144, 144, 144, 144, 144, 144, 144, 144, 144, 144, 144, 144, 144, 144, 144, 144, 144, 144, 144, 144, 144, 144, 144, 144, 144, 144, 144, 144, 144, 144, 141, 141, 141, 141, 141, 140, 139, 137, 137, 135, 131, 131, 128, 125, 124, 123, 122, 117, 114, 111, 110, 107, 106, 103, 100, 95, 89, 83, 79, 76, 75, 68, 65, 64, 59, 56, 55, 53, 52, 52, 52, 51, 49, 48, 47, 45, 37, 22, 0 ],\n",
      "      \"3\" : [ 150, 150, 150, 150, 150, 150, 150, 150, 150, 150, 150, 150, 150, 150, 150, 150, 150, 150, 150, 150, 150, 150, 150, 150, 150, 150, 150, 150, 150, 150, 150, 150, 150, 150, 150, 150, 150, 150, 150, 150, 149, 149, 149, 146, 146, 146, 145, 145, 144, 144, 144, 144, 141, 141, 141, 141, 141, 140, 139, 137, 137, 135, 131, 131, 128, 125, 124, 123, 122, 117, 114, 111, 110, 107, 106, 103, 100, 95, 89, 83, 79, 76, 75, 68, 65, 64, 59, 56, 55, 53, 52, 52, 52, 51, 49, 48, 47, 45, 37, 22, 0 ]\n",
      "    },\n",
      "    \"incorrectCounts\" : {\n",
      "      \"1\" : [ 6, 6, 6, 6, 6, 6, 6, 6, 6, 6, 6, 6, 6, 6, 6, 6, 6, 6, 6, 6, 6, 6, 6, 6, 6, 6, 6, 6, 6, 6, 6, 6, 6, 6, 6, 6, 6, 6, 6, 6, 6, 6, 6, 6, 6, 6, 6, 6, 6, 6, 6, 6, 6, 5, 5, 4, 4, 4, 1, 1, 1, 0, 0, 0, 0, 0, 0, 0, 0, 0, 0, 0, 0, 0, 0, 0, 0, 0, 0, 0, 0, 0, 0, 0, 0, 0, 0, 0, 0, 0, 0, 0, 0, 0, 0, 0, 0, 0, 0, 0, 0 ],\n",
      "      \"3\" : [ 0, 0, 0, 0, 0, 0, 0, 0, 0, 0, 0, 0, 0, 0, 0, 0, 0, 0, 0, 0, 0, 0, 0, 0, 0, 0, 0, 0, 0, 0, 0, 0, 0, 0, 0, 0, 0, 0, 0, 0, 1, 1, 1, 4, 4, 4, 5, 5, 6, 6, 6, 6, 6, 5, 5, 4, 4, 4, 1, 1, 1, 0, 0, 0, 0, 0, 0, 0, 0, 0, 0, 0, 0, 0, 0, 0, 0, 0, 0, 0, 0, 0, 0, 0, 0, 0, 0, 0, 0, 0, 0, 0, 0, 0, 0, 0, 0, 0, 0, 0, 0 ]\n",
      "    },\n",
      "    \"noPredictionCounts\" : {\n",
      "      \"1\" : [ 0, 0, 0, 0, 0, 0, 0, 0, 0, 0, 0, 0, 0, 0, 0, 0, 0, 0, 0, 0, 0, 0, 0, 0, 0, 0, 0, 0, 0, 0, 0, 0, 0, 0, 0, 0, 0, 0, 0, 0, 0, 0, 0, 0, 0, 0, 0, 0, 0, 0, 0, 0, 3, 4, 4, 5, 5, 6, 10, 12, 12, 15, 19, 19, 22, 25, 26, 27, 28, 33, 36, 39, 40, 43, 44, 47, 50, 55, 61, 67, 71, 74, 75, 82, 85, 86, 91, 94, 95, 97, 98, 98, 98, 99, 101, 102, 103, 105, 113, 128, 150 ],\n",
      "      \"3\" : [ 0, 0, 0, 0, 0, 0, 0, 0, 0, 0, 0, 0, 0, 0, 0, 0, 0, 0, 0, 0, 0, 0, 0, 0, 0, 0, 0, 0, 0, 0, 0, 0, 0, 0, 0, 0, 0, 0, 0, 0, 0, 0, 0, 0, 0, 0, 0, 0, 0, 0, 0, 0, 3, 4, 4, 5, 5, 6, 10, 12, 12, 15, 19, 19, 22, 25, 26, 27, 28, 33, 36, 39, 40, 43, 44, 47, 50, 55, 61, 67, 71, 74, 75, 82, 85, 86, 91, 94, 95, 97, 98, 98, 98, 99, 101, 102, 103, 105, 113, 128, 150 ]\n",
      "    }\n",
      "  }\n",
      "}\n"
     ]
    },
    {
     "data": {
      "text/plain": [
       "null"
      ]
     },
     "execution_count": 17,
     "metadata": {},
     "output_type": "execute_result"
    }
   ],
   "source": [
    "println(\"Scoring the model:\\n=================\")\n",
    "val (dataframe, metrics) = fittedWorkflow.scoreAndEvaluate(evaluator = evaluator)\n",
    "\n",
    "println(\"Transformed dataframe columns:\\n--------------------------\")\n",
    "dataframe.columns.foreach(println)\n",
    "\n",
    "println(\"Metrics:\\n------------\")\n",
    "println(metrics)"
   ]
  },
  {
   "cell_type": "code",
   "execution_count": null,
   "metadata": {},
   "outputs": [],
   "source": []
  }
 ],
 "metadata": {
  "kernelspec": {
   "display_name": "Scala 2.12.8",
   "language": "scala",
   "name": "scala_2_12_8"
  },
  "language_info": {
   "codemirror_mode": "text/x-scala",
   "file_extension": ".scala",
   "mimetype": "text/x-scala",
   "name": "scala",
   "nbconvert_exporter": "script",
   "version": "2.12.8"
  },
  "toc": {
   "base_numbering": 1,
   "nav_menu": {},
   "number_sections": false,
   "sideBar": false,
   "skip_h1_title": false,
   "title_cell": "Table of Contents",
   "title_sidebar": "Contents",
   "toc_cell": false,
   "toc_position": {},
   "toc_section_display": false,
   "toc_window_display": false
  }
 },
 "nbformat": 4,
 "nbformat_minor": 2
}
