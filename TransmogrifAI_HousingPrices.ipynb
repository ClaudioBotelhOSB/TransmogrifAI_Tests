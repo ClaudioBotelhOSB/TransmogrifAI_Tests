{
 "cells": [
  {
   "cell_type": "code",
   "execution_count": 1,
   "metadata": {},
   "outputs": [
    {
     "data": {
      "application/vnd.jupyter.widget-view+json": {
       "model_id": "",
       "version_major": 2,
       "version_minor": 0
      },
      "method": "display_data"
     },
     "metadata": {},
     "output_type": "display_data"
    },
    {
     "data": {
      "application/vnd.jupyter.widget-view+json": {
       "model_id": "e731b411-5c87-449e-91fd-2e89e0400b0e",
       "version_major": 2,
       "version_minor": 0
      },
      "method": "display_data"
     },
     "metadata": {},
     "output_type": "display_data"
    }
   ],
   "source": [
    "%classpath add mvn com.salesforce.transmogrifai transmogrifai-core_2.11 0.7.0"
   ]
  },
  {
   "cell_type": "code",
   "execution_count": 2,
   "metadata": {},
   "outputs": [
    {
     "data": {
      "application/vnd.jupyter.widget-view+json": {
       "model_id": "",
       "version_major": 2,
       "version_minor": 0
      },
      "method": "display_data"
     },
     "metadata": {},
     "output_type": "display_data"
    },
    {
     "data": {
      "application/vnd.jupyter.widget-view+json": {
       "model_id": "ad638fc9-92a2-4cc5-bf98-a171557d0b6c",
       "version_major": 2,
       "version_minor": 0
      },
      "method": "display_data"
     },
     "metadata": {},
     "output_type": "display_data"
    }
   ],
   "source": [
    "%classpath add mvn org.apache.spark spark-mllib_2.11 2.4.5"
   ]
  },
  {
   "cell_type": "code",
   "execution_count": 3,
   "metadata": {},
   "outputs": [
    {
     "data": {
      "text/plain": [
       "import org.apache.spark.SparkConf\n",
       "import org.apache.spark.sql.SparkSession\n",
       "import org.apache.spark.SparkContext\n",
       "import org.apache.spark.sql.functions.udf\n",
       "import com.salesforce.op._\n",
       "import com.salesforce.op.features._\n",
       "import com.salesforce.op.features.types._\n",
       "import com.salesforce.op.evaluators.Evaluators\n"
      ]
     },
     "execution_count": 3,
     "metadata": {},
     "output_type": "execute_result"
    }
   ],
   "source": [
    "import org.apache.spark.SparkConf\n",
    "import org.apache.spark.sql.SparkSession\n",
    "import org.apache.spark.SparkContext\n",
    "import org.apache.spark.sql.functions.udf\n",
    "\n",
    "import com.salesforce.op._\n",
    "import com.salesforce.op.features._\n",
    "import com.salesforce.op.features.types._\n",
    "import com.salesforce.op.evaluators.Evaluators"
   ]
  },
  {
   "cell_type": "code",
   "execution_count": 4,
   "metadata": {},
   "outputs": [
    {
     "data": {
      "text/plain": [
       "import com.salesforce.op.OpWorkflow\n",
       "import com.salesforce.op.evaluators.Evaluators\n",
       "import com.salesforce.op.readers.DataReaders\n"
      ]
     },
     "execution_count": 4,
     "metadata": {},
     "output_type": "execute_result"
    }
   ],
   "source": [
    "import com.salesforce.op.OpWorkflow\n",
    "import com.salesforce.op.evaluators.Evaluators\n",
    "import com.salesforce.op.readers.DataReaders"
   ]
  },
  {
   "cell_type": "code",
   "execution_count": 5,
   "metadata": {},
   "outputs": [
    {
     "data": {
      "text/plain": [
       "org.apache.spark.sql.SparkSession@1de3380f"
      ]
     },
     "execution_count": 5,
     "metadata": {},
     "output_type": "execute_result"
    }
   ],
   "source": [
    "val conf = new SparkConf().setMaster(\"local[*]\").setAppName(\"HousingPricesPrediction\")\n",
    "implicit val spark = SparkSession.builder.config(conf).getOrCreate()"
   ]
  },
  {
   "cell_type": "code",
   "execution_count": 6,
   "metadata": {},
   "outputs": [
    {
     "data": {
      "text/plain": [
       "defined class HousingPrices\n"
      ]
     },
     "execution_count": 6,
     "metadata": {},
     "output_type": "execute_result"
    }
   ],
   "source": [
    "case class HousingPrices(\n",
    "  lotFrontage: Double,\n",
    "  area: Integer,\n",
    "  lotShape: String,\n",
    "  yrSold : Integer,\n",
    "  saleType: String,\n",
    "  saleCondition: String,\n",
    "  salePrice: Double)"
   ]
  },
  {
   "cell_type": "code",
   "execution_count": 7,
   "metadata": {},
   "outputs": [
    {
     "data": {
      "text/plain": [
       "class[lotFrontage[0]: double, area[0]: int, lotShape[0]: string, yrSold[0]: int, saleType[0]: string, saleCondition[0]: string, salePrice[0]: double]"
      ]
     },
     "execution_count": 7,
     "metadata": {},
     "output_type": "execute_result"
    }
   ],
   "source": [
    "import org.apache.spark.sql.{Encoders}\n",
    "implicit val srEncoder = Encoders.product[HousingPrices]"
   ]
  },
  {
   "cell_type": "code",
   "execution_count": 8,
   "metadata": {},
   "outputs": [
    {
     "data": {
      "text/plain": [
       "Feature(name = area, uid = Integral_000000000002, isResponse = false, originStage = FeatureGeneratorStage_000000000002, parents = [], distributions = [])"
      ]
     },
     "execution_count": 8,
     "metadata": {},
     "output_type": "execute_result"
    }
   ],
   "source": [
    "val lotFrontage = FeatureBuilder.Real[HousingPrices].extract(_.lotFrontage.toReal).asPredictor\n",
    "val area = FeatureBuilder.Integral[HousingPrices].extract(_.area.toIntegral).asPredictor"
   ]
  },
  {
   "cell_type": "code",
   "execution_count": 9,
   "metadata": {},
   "outputs": [
    {
     "data": {
      "text/plain": [
       "Feature(name = lotShape, uid = Integral_000000000003, isResponse = false, originStage = FeatureGeneratorStage_000000000003, parents = [], distributions = [])"
      ]
     },
     "execution_count": 9,
     "metadata": {},
     "output_type": "execute_result"
    }
   ],
   "source": [
    "val lotShape = FeatureBuilder.Integral[HousingPrices].extract(_.lotShape match {\n",
    "    case \"IR1\" => 1.toIntegral\n",
    "    case _ => 0.toIntegral\n",
    "}).asPredictor"
   ]
  },
  {
   "cell_type": "code",
   "execution_count": 10,
   "metadata": {},
   "outputs": [
    {
     "data": {
      "text/plain": [
       "Feature(name = yrSold, uid = Integral_000000000004, isResponse = false, originStage = FeatureGeneratorStage_000000000004, parents = [], distributions = [])"
      ]
     },
     "execution_count": 10,
     "metadata": {},
     "output_type": "execute_result"
    }
   ],
   "source": [
    "val yrSold = FeatureBuilder.Integral[HousingPrices].extract(_.yrSold.toIntegral).asPredictor"
   ]
  },
  {
   "cell_type": "code",
   "execution_count": 11,
   "metadata": {},
   "outputs": [
    {
     "data": {
      "text/plain": [
       "Feature(name = saleType_1-stagesApplied_RealNN_000000000006, uid = RealNN_000000000006, isResponse = false, originStage = OpStringIndexerNoFilter_000000000006, parents = [Text_000000000005], distributions = [])"
      ]
     },
     "execution_count": 11,
     "metadata": {},
     "output_type": "execute_result"
    }
   ],
   "source": [
    "val saleType = FeatureBuilder.Text[HousingPrices].extract(_.saleType.toText).asPredictor.indexed()"
   ]
  },
  {
   "cell_type": "code",
   "execution_count": 12,
   "metadata": {},
   "outputs": [
    {
     "data": {
      "text/plain": [
       "Feature(name = saleCondition_1-stagesApplied_RealNN_000000000008, uid = RealNN_000000000008, isResponse = false, originStage = OpStringIndexerNoFilter_000000000008, parents = [Text_000000000007], distributions = [])"
      ]
     },
     "execution_count": 12,
     "metadata": {},
     "output_type": "execute_result"
    }
   ],
   "source": [
    "val saleCondition = FeatureBuilder.Text[HousingPrices]\n",
    "  .extract(_.saleCondition.toText).asPredictor.indexed()"
   ]
  },
  {
   "cell_type": "code",
   "execution_count": 13,
   "metadata": {},
   "outputs": [
    {
     "data": {
      "text/plain": [
       "Feature(name = salePrice, uid = RealNN_000000000009, isResponse = true, originStage = FeatureGeneratorStage_000000000009, parents = [], distributions = [])"
      ]
     },
     "execution_count": 13,
     "metadata": {},
     "output_type": "execute_result"
    }
   ],
   "source": [
    "val salePrice = FeatureBuilder.RealNN[HousingPrices].extract(_.salePrice.toRealNN).asResponse"
   ]
  },
  {
   "cell_type": "code",
   "execution_count": 14,
   "metadata": {},
   "outputs": [
    {
     "data": {
      "text/plain": [
       "/home/beakerx/helloworld/src/main/resources/HousingPricesDataset/train_lf_la_ls_ys_st_sc.csv"
      ]
     },
     "execution_count": 14,
     "metadata": {},
     "output_type": "execute_result"
    }
   ],
   "source": [
    " val trainFilePath = \"/home/beakerx/helloworld/src/main/resources/HousingPricesDataset/train_lf_la_ls_ys_st_sc.csv\""
   ]
  },
  {
   "cell_type": "markdown",
   "metadata": {},
   "source": [
    "Create a training data reader from the `trainFilePath` using `DataReaders.Simple`"
   ]
  },
  {
   "cell_type": "code",
   "execution_count": 15,
   "metadata": {},
   "outputs": [
    {
     "data": {
      "text/plain": [
       "com.salesforce.op.readers.CSVProductReader@11173c5f"
      ]
     },
     "execution_count": 15,
     "metadata": {},
     "output_type": "execute_result"
    }
   ],
   "source": [
    "val trainDataReader = DataReaders.Simple.csvCase[HousingPrices](\n",
    "      path = Option(trainFilePath)\n",
    "    )"
   ]
  },
  {
   "cell_type": "code",
   "execution_count": 16,
   "metadata": {},
   "outputs": [
    {
     "data": {
      "text/plain": [
       "DataSplitter_00000000000e"
      ]
     },
     "execution_count": 16,
     "metadata": {},
     "output_type": "execute_result"
    }
   ],
   "source": [
    "import com.salesforce.op.stages.impl.tuning.{DataCutter, DataSplitter}\n",
    "val features = Seq(lotFrontage,area,lotShape, yrSold, saleType, saleCondition).transmogrify()\n",
    "val randomSeed = 42L\n",
    "val splitter = DataSplitter(seed = randomSeed)"
   ]
  },
  {
   "cell_type": "code",
   "execution_count": 17,
   "metadata": {},
   "outputs": [
    {
     "data": {
      "text/plain": [
       "Feature(name = area-lotFrontage-lotShape-saleCondition-salePrice-saleType-yrSold_7-stagesApplied_Prediction_000000000017, uid = Prediction_000000000017, isResponse = true, originStage = ModelSelector_000000000017, parents = [RealNN_000000000009,OPVector_00000000000d], distributions = [])"
      ]
     },
     "execution_count": 17,
     "metadata": {},
     "output_type": "execute_result"
    }
   ],
   "source": [
    "import com.salesforce.op.stages.impl.regression.RegressionModelSelector\n",
    "import com.salesforce.op.stages.impl.regression.RegressionModelsToTry.{OpGBTRegressor, OpRandomForestRegressor}\n",
    "\n",
    "val prediction1 = RegressionModelSelector\n",
    "      .withCrossValidation(\n",
    "        dataSplitter = Some(splitter), seed = randomSeed,\n",
    "        modelTypesToUse = Seq(OpGBTRegressor, OpRandomForestRegressor)\n",
    "      ).setInput(salePrice,features).getOutput()"
   ]
  },
  {
   "cell_type": "code",
   "execution_count": 18,
   "metadata": {},
   "outputs": [
    {
     "data": {
      "text/plain": [
       "OpRegressionEvaluator_000000000018"
      ]
     },
     "execution_count": 18,
     "metadata": {},
     "output_type": "execute_result"
    }
   ],
   "source": [
    "val evaluator = Evaluators.Regression().setLabelCol(salePrice).setPredictionCol(prediction1)"
   ]
  },
  {
   "cell_type": "code",
   "execution_count": 19,
   "metadata": {},
   "outputs": [
    {
     "data": {
      "text/plain": [
       "com.salesforce.op.OpWorkflowModel@47167e30"
      ]
     },
     "execution_count": 19,
     "metadata": {},
     "output_type": "execute_result"
    }
   ],
   "source": [
    "val workflow = new OpWorkflow().setResultFeatures(prediction1, salePrice).setReader(trainDataReader)\n",
    "val workflowModel = workflow.train()"
   ]
  },
  {
   "cell_type": "code",
   "execution_count": 20,
   "metadata": {},
   "outputs": [
    {
     "name": "stdout",
     "output_type": "stream",
     "text": [
      "+--------------------+---------+---------------------------------------------------------------------------------------------------------+\n",
      "|key                 |salePrice|area-lotFrontage-lotShape-saleCondition-salePrice-saleType-yrSold_7-stagesApplied_Prediction_000000000017|\n",
      "+--------------------+---------+---------------------------------------------------------------------------------------------------------+\n",
      "|2587754930100963237 |208500.0 |[prediction -> 164822.27126980046]                                                                       |\n",
      "|-6679898534360193130|181500.0 |[prediction -> 184666.61988456224]                                                                       |\n",
      "|-9172575567373448966|223500.0 |[prediction -> 208644.10371143607]                                                                       |\n",
      "|-3279579769696099579|140000.0 |[prediction -> 162722.31447600614]                                                                       |\n",
      "|9018456301635309930 |250000.0 |[prediction -> 237380.34792521622]                                                                       |\n",
      "|2782621950270708444 |143000.0 |[prediction -> 245076.71914641137]                                                                       |\n",
      "|585389805602678595  |307000.0 |[prediction -> 189987.4274538246]                                                                        |\n",
      "|-3733366799669700304|129900.0 |[prediction -> 114738.88708066574]                                                                       |\n",
      "|-1097514288554066602|118000.0 |[prediction -> 134116.0891051527]                                                                        |\n",
      "|-58442486569094129  |129500.0 |[prediction -> 165155.66062456358]                                                                       |\n",
      "|4796992340692200499 |345000.0 |[prediction -> 286478.4703844568]                                                                        |\n",
      "|-3165080814557049901|279500.0 |[prediction -> 258832.1840086961]                                                                        |\n",
      "|2103173241417501334 |132000.0 |[prediction -> 128642.84096440945]                                                                       |\n",
      "|-4022274924375401797|90000.0  |[prediction -> 161957.4413156725]                                                                        |\n",
      "|-5092121201187415776|159000.0 |[prediction -> 186043.44220136266]                                                                       |\n",
      "|3513753835780680119 |139000.0 |[prediction -> 143845.30104131153]                                                                       |\n",
      "|4571404336935122249 |325300.0 |[prediction -> 322613.5356372279]                                                                        |\n",
      "|-69894023887143294  |139400.0 |[prediction -> 139651.72228047735]                                                                       |\n",
      "|5540664910135773077 |230000.0 |[prediction -> 190453.38685466594]                                                                       |\n",
      "|-1114275183095228682|129900.0 |[prediction -> 142991.40548395383]                                                                       |\n",
      "+--------------------+---------+---------------------------------------------------------------------------------------------------------+\n",
      "only showing top 20 rows\n",
      "\n"
     ]
    },
    {
     "data": {
      "text/plain": [
       "null"
      ]
     },
     "execution_count": 20,
     "metadata": {},
     "output_type": "execute_result"
    }
   ],
   "source": [
    "val (scores, metrics) = workflowModel.scoreAndEvaluate(evaluator)\n",
    "scores.show(false)"
   ]
  },
  {
   "cell_type": "code",
   "execution_count": 21,
   "metadata": {},
   "outputs": [
    {
     "data": {
      "text/plain": [
       "{\n",
       "  \"RootMeanSquaredError\" : 59471.929439328924,\n",
       "  \"MeanSquaredError\" : 3.536910391236518E9,\n",
       "  \"R2\" : 0.49094715177074066,\n",
       "  \"MeanAbsoluteError\" : 42083.20232575104\n",
       "}"
      ]
     },
     "execution_count": 21,
     "metadata": {},
     "output_type": "execute_result"
    }
   ],
   "source": [
    "metrics.toString()"
   ]
  },
  {
   "cell_type": "code",
   "execution_count": 22,
   "metadata": {},
   "outputs": [
    {
     "name": "stdout",
     "output_type": "stream",
     "text": [
      "Metrics:\n",
      "------------\n",
      "{\n",
      "  \"RootMeanSquaredError\" : 59471.929439328924,\n",
      "  \"MeanSquaredError\" : 3.536910391236518E9,\n",
      "  \"R2\" : 0.49094715177074066,\n",
      "  \"MeanAbsoluteError\" : 42083.20232575104\n",
      "}\n"
     ]
    },
    {
     "data": {
      "text/plain": [
       "null"
      ]
     },
     "execution_count": 22,
     "metadata": {},
     "output_type": "execute_result"
    }
   ],
   "source": [
    "println(\"Metrics:\\n------------\")\n",
    "println(metrics)"
   ]
  },
  {
   "cell_type": "code",
   "execution_count": null,
   "metadata": {},
   "outputs": [],
   "source": []
  }
 ],
 "metadata": {
  "kernelspec": {
   "display_name": "Scala 2.12.8",
   "language": "scala",
   "name": "scala_2_12_8"
  },
  "language_info": {
   "codemirror_mode": "text/x-scala",
   "file_extension": ".scala",
   "mimetype": "text/x-scala",
   "name": "scala",
   "nbconvert_exporter": "script",
   "version": "2.12.8"
  },
  "toc": {
   "base_numbering": 1,
   "nav_menu": {},
   "number_sections": false,
   "sideBar": false,
   "skip_h1_title": false,
   "title_cell": "Table of Contents",
   "title_sidebar": "Contents",
   "toc_cell": false,
   "toc_position": {},
   "toc_section_display": false,
   "toc_window_display": false
  }
 },
 "nbformat": 4,
 "nbformat_minor": 2
}
